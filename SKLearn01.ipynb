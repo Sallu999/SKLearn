{
 "cells": [
  {
   "cell_type": "markdown",
   "id": "8106c5e9-e26f-464e-99d2-bffd63559069",
   "metadata": {},
   "source": [
    "# 01 Pengenalan Machine Learning"
   ]
  },
  {
   "cell_type": "markdown",
   "id": "da922686-594f-4163-a26e-637827e3cd7a",
   "metadata": {},
   "source": [
    "## Apa itu Machine Learning (ML)?\n",
    "- \"Machine Learning is a study that gives computers the ability to learn without being explicitly programmed\" - **Arthur Samuel**\n",
    "- \"Machine Learning is a program can be said to learn from experience ***E*** with respect to some class of tasks ***T*** and performance measure ***P***, if its performance at tasks in ***T***, as measured by ***P***, improves with experience ***E***.\" - **Tom Mitchell**\n",
    "- Machine Learning adalah bidang ilmu yang memampukan suatu program komputer untuk belajar dari sekumpulan data."
   ]
  },
  {
   "cell_type": "markdown",
   "id": "99f3724d-89e9-4bb4-85ef-84faa063e4c9",
   "metadata": {},
   "source": [
    "## Learning Problem\n",
    "- **Learning problem** dalam konteks Machine Learning (ML) melibatkan suatu dataset (terdiri dari sejumlah *n* sample data) untuk melakukan prediksi terhadap properties  yang tidak diketahui pada dataset lain yang sejenis.\n",
    "Secara umum learning problem dapat dibagi menjadi dua, yaitu **supervised learning** dan **unsupervised learning**.\n",
    "- Pada **supervised learning problem**, program memprediksi suatu nilai output untuk suatu input berdasarkan proses **learning** dengan memanfaatkan sekumpulan data yang terbagi dalam dua label, yaitu input dan output. Di sini program melakukan **learning** dari sekumpulan contoh kasus (examples) yang menyertakan \"jawaban benar\".\n",
    "- Pada **unsupervised learning problem**, program tidak melakukan learning dari labeled data; melainkan mencoba menemukan pola (patterns) pada data. Di sini program melakukan **learning** dari sekumpulan contoh kasus (examples) tanpa disertai \"jawaban benar\"."
   ]
  },
  {
   "cell_type": "markdown",
   "id": "f28fb390-f14b-4492-8d94-f5f1311287d2",
   "metadata": {},
   "source": [
    "## Terminologi Dasar pada Supervised Learning\n",
    "- **output**: label, response variable, dependent variable, regressand, criterion variable, measured variable, responding variable, explained variable, outcome variable, experimental variable, dan output variable.\n",
    "- **input**: features, explanatory variables, predictors, regressors, controlled variables, and exposure variables.\n",
    "- **training set**: Sekumpulan \"contoh\" yang digunakan untuk proses **learning (training)** pada supervised learning.\n",
    "- **test set**: Sekumpulan \"contoh\" yang digunakan untuk mengukur performa pada supervised learning.\n",
    "- Pada supervised learning, **response variable** bisa dianalogikan sebagai **kunci jawaban** dan **explanatory variables** bisa dianalogikan sebagai **pertanyaan**nya."
   ]
  },
  {
   "cell_type": "markdown",
   "id": "ba802a70-2b4a-43a7-84c8-316e118d02b1",
   "metadata": {},
   "source": [
    "## Supervised Machine Learning Tasks\n",
    "- Secara umum terdapat dua jenis Supervised Machine Learning Tasks, yaitu **Classification** dan **Regression**.\n",
    "- **Classification tasks** menekankan pada proses learning (training) untuk melakukan prediksi nilai discrete (i.e., category, class, label) dari sejumlah features.\n",
    "- **Regression tasks** menekankan pada proses learning (training) untuk melakukan prediksi nilai continuos (floating point) dari sejumlah features."
   ]
  },
  {
   "cell_type": "markdown",
   "id": "fdf422cf-08a5-4dd8-9fa6-f434f0b77e99",
   "metadata": {},
   "source": [
    "## Unsupervised Machine Learning Tasks\n",
    "- Terdapat beberapa Unsupervised Machine Learning Tasks dan kita akan berfokus pada dua tasks, yaitu **Clustering** dan **Dimensionality Reduction**.\n",
    "- **Clustering tasks** menekankan pada proses explorasi data untuk menemukan kelompok (group) pada data berdasarkan kemiripan (kedekatan) karakteristik.\n",
    "- **Dimensionality Reduction tasks** menekankan pada proses explorasi data untuk menemukan sejumlah features yang paling berdampak terhadap response variable."
   ]
  },
  {
   "cell_type": "markdown",
   "id": "b33083dc-f445-4595-aae6-a3f98e0c839c",
   "metadata": {},
   "source": [
    "## Rekomendasi Buku\n",
    "- Machine Learning Yearning (by Andrew Ng)\n",
    "- The Hundred-Page Machine Learning Book (by Andriy Burkov)\n",
    "- Learning From Data (by Yaser S. Abu-Mostafa)"
   ]
  }
 ],
 "metadata": {
  "kernelspec": {
   "display_name": "Python 3 (ipykernel)",
   "language": "python",
   "name": "python3"
  },
  "language_info": {
   "codemirror_mode": {
    "name": "ipython",
    "version": 3
   },
   "file_extension": ".py",
   "mimetype": "text/x-python",
   "name": "python",
   "nbconvert_exporter": "python",
   "pygments_lexer": "ipython3",
   "version": "3.11.5"
  }
 },
 "nbformat": 4,
 "nbformat_minor": 5
}
